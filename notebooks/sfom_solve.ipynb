{
 "cells": [
  {
   "cell_type": "code",
   "execution_count": null,
   "id": "d93652c9",
   "metadata": {},
   "outputs": [],
   "source": [
    "import jax.numpy as jnp\n",
    "from static_potential import StaticPotential\n",
    "import matplotlib.pyplot as plt\n",
    "from utils import visualize_profiles\n",
    "from utils import adaptive_grid\n",
    "\n",
    "from moving_potential import MovingPotentials\n",
    "from solver import Solver"
   ]
  },
  {
   "cell_type": "code",
   "execution_count": null,
   "id": "2d93c82c",
   "metadata": {},
   "outputs": [],
   "source": [
    "N_t = 10000\n",
    "T_max = 30\n",
    "time_grid = jnp.linspace(0 , T_max, N_t, dtype=jnp.complex64)\n",
    "time_step = (time_grid[1] - time_grid[0]).real\n",
    "time_step"
   ]
  },
  {
   "cell_type": "code",
   "execution_count": null,
   "id": "14563e69",
   "metadata": {},
   "outputs": [],
   "source": [
    "#initialize problem dimensions and parameters\n",
    "eta = 2/5\n",
    "\n",
    "n_total_times = 20\n",
    "total_times = jnp.linspace(1, T_max, n_total_times)\n",
    "\n",
    "n_amplitudes = 20\n",
    "min_amplitude = 1\n",
    "max_amplitude = 10\n",
    "amplitudes = jnp.linspace(min_amplitude, max_amplitude, n_amplitudes)"
   ]
  },
  {
   "cell_type": "code",
   "execution_count": null,
   "id": "f7d3d515",
   "metadata": {},
   "outputs": [],
   "source": [
    "sp = StaticPotential.from_json('params.json')\n",
    "mps = MovingPotentials(eta, 1, amplitudes, total_times, sp.x_left, sp.x_right)\n",
    "sp, mps"
   ]
  },
  {
   "cell_type": "code",
   "execution_count": null,
   "id": "1a12134a",
   "metadata": {},
   "outputs": [],
   "source": [
    "coord_profiles, amp_profiles = mps.populate_profiles(time_grid)\n",
    "coord_profiles.shape\n",
    "\n",
    "# Create a figure for plotting\n",
    "fig, ax = plt.subplots(mps.n_profiles, 2,\n",
    "                       figsize=(12, 6), sharex=True)\n",
    "\n",
    "visualize_profiles(time_grid, coord_profiles, amp_profiles,\n",
    "                   total_times, mps.profile_kind_to_index, amplitudes, ax)\n",
    "\n",
    "plt.show()"
   ]
  },
  {
   "cell_type": "code",
   "execution_count": null,
   "id": "cac6edca",
   "metadata": {},
   "outputs": [],
   "source": [
    "N_x, coord_grid, coord_step, momentum_grid, momentum_step = adaptive_grid(\n",
    "    sp.x_left - 5, sp.x_right + 5, required_energy = 2 * (1 + max_amplitude), B=sp.borne_parameter)\n",
    "\n",
    "N_x, coord_step, momentum_step"
   ]
  },
  {
   "cell_type": "code",
   "execution_count": null,
   "id": "c64a9f6e",
   "metadata": {},
   "outputs": [],
   "source": [
    "sv = Solver(sp, mps)\n",
    "psi_0 = sv.init_psi_0(coord_grid)"
   ]
  },
  {
   "cell_type": "code",
   "execution_count": 8,
   "id": "4b7104b5",
   "metadata": {},
   "outputs": [],
   "source": [
    "psi, (norm, kinetic, overlap) = sv.solve(coord_grid, time_grid, momentum_grid)\n",
    "norm.shape, kinetic.shape, overlap.shape"
   ]
  },
  {
   "cell_type": "code",
   "execution_count": null,
   "id": "e8b7cbff",
   "metadata": {},
   "outputs": [],
   "source": [
    "selected_amp_index = 0\n",
    "fig, ax = plt.subplots(mps.n_profiles, 1, figsize=(15, 6), sharex=True)\n",
    "\n",
    "for profile, profile_index in mps.profile_kind_to_index.items():\n",
    "    for total_time_index, total_time in enumerate(total_times):\n",
    "        ax[profile_index].plot(\n",
    "            coord_grid,\n",
    "            jnp.abs(psi[profile_index, selected_amp_index, total_time_index])**2,\n",
    "            label=f'Total Time: {total_time:.2f}' + r\" $T_{st}$\"\n",
    "        )\n",
    "\n",
    "    ax[profile_index].set_title(f'{profile} Profile. Final wave function, Tweezer_depth = {amplitudes[selected_amp_index]:.2f}' + r\" $A_{st}$\")\n",
    "    ax[profile_index].set_ylabel(r'$|\\psi|^2$')\n",
    "    ax[profile_index].axvline(sp.x_left, ls = ':', label = 'start')\n",
    "    ax[profile_index].axvline(sp.x_right, ls = '--', label = 'finish')\n",
    "    ax[profile_index].grid(ls = ':')\n",
    "    \n",
    "#ax[0].legend()\n",
    "\n",
    "for ax_row in ax:\n",
    "    ax_row.set_xlabel(r'Coordinate, units of $\\sigma_{st}$')\n",
    "\n",
    "plt.tight_layout()\n",
    "plt.show()"
   ]
  },
  {
   "cell_type": "code",
   "execution_count": null,
   "id": "e497853a",
   "metadata": {},
   "outputs": [],
   "source": [
    "for profile, profile_index in mps.profile_kind_to_index.items():\n",
    "    for amp_index, amp in enumerate(amplitudes):\n",
    "        for total_times_index, total_time in enumerate(total_times):\n",
    "            plt.plot(time_grid, norm[:, profile_index, amp_index, total_times_index])"
   ]
  },
  {
   "cell_type": "code",
   "execution_count": null,
   "id": "ef52c182",
   "metadata": {},
   "outputs": [],
   "source": [
    "selected_amp_index = -1\n",
    "fig, ax = plt.subplots(mps.n_profiles, 1, figsize=(8, 6), sharex=True, sharey=True)\n",
    "\n",
    "for profile, profile_index in mps.profile_kind_to_index.items():\n",
    "    for total_time_index, total_time in enumerate(total_times):\n",
    "        ax[profile_index].plot(\n",
    "            time_grid,\n",
    "            jnp.log10(1-overlap[:, profile_index,\n",
    "                      selected_amp_index, total_time_index].real),\n",
    "            label=f'Total Time: {total_time:.2f}' + r\" $T_{st}$\"\n",
    "        )\n",
    "\n",
    "    ax[profile_index].set_title(f'{profile} Profile. Evolution of infidelity for tweezer depth: {\n",
    "                                amplitudes[selected_amp_index]:.2f}' + r\" $A_{st}$\")\n",
    "    ax[profile_index].set_ylabel(r'$log_{10}(1 - F)$')\n",
    "    ax[profile_index].grid(ls = \":\")\n",
    "\n",
    "#ax[0].legend()\n",
    "for ax_row in ax:\n",
    "    ax_row.set_xlabel(r'Time, units of $T_{st}$')\n",
    "\n",
    "plt.tight_layout()\n",
    "plt.show()"
   ]
  },
  {
   "cell_type": "code",
   "execution_count": null,
   "id": "5795bf43",
   "metadata": {},
   "outputs": [],
   "source": [
    "selected_amp_index = 1\n",
    "fig, ax = plt.subplots(mps.n_profiles, 1, figsize=(8, 6), sharex=True, sharey=True)\n",
    "\n",
    "for profile, profile_index in mps.profile_kind_to_index.items():\n",
    "    for total_time_index, total_time in enumerate(total_times):\n",
    "        ax[profile_index].plot(\n",
    "            time_grid,\n",
    "            kinetic[:, profile_index, selected_amp_index, total_time_index],\n",
    "            label=f'Total Time: {total_time:.2f}' + r\" $T_{st}$\"\n",
    "        )\n",
    "\n",
    "    # Set titles, labels, and legends for each subplot\\\n",
    "    ax[profile_index].set_xticks(jnp.arange(0,time_grid.max().real, 1))\n",
    "    ax[profile_index].set_title(f'{profile} Profile: Evolution of <p^2 / 2m> \\n Amplitude: {\n",
    "                                amplitudes[selected_amp_index]:.2f}' + r\" $A_{st}$\")\n",
    "    ax[profile_index].set_ylabel(r'$<p^2 / 2m>$, units of $A_{st}$')\n",
    "    ax[profile_index].grid(ls = \":\")\n",
    "    #ax[profile_index].set_xlim(0,10)\n",
    "\n",
    "#ax[0].legend()\n",
    "\n",
    "# Set common xlabel for all subplots\n",
    "for ax_row in ax:\n",
    "    ax_row.set_xlabel(r'Time, units of $T_{st}$')\n",
    "\n",
    "plt.tight_layout()\n",
    "plt.show()"
   ]
  },
  {
   "cell_type": "code",
   "execution_count": null,
   "id": "e515a5cd",
   "metadata": {},
   "outputs": [],
   "source": [
    "import matplotlib.pyplot as plt\n",
    "import numpy as np\n",
    "\n",
    "overlap_last_time = overlap[-1, ...] \n",
    "log_infid = jnp.log10(1 - overlap_last_time)\n",
    "\n",
    "vmin, vmax = log_infid.min(), log_infid.max()\n",
    "\n",
    "# Create a figure for plotting\n",
    "fig, ax = plt.subplots(mps.n_profiles, 1, figsize=(10, 6), sharex=True, sharey=True)\n",
    "\n",
    "# Loop through each profile type (Linear, Minjerk, STA, etc.)\n",
    "for profile, profile_index in mps.profile_kind_to_index.items():\n",
    "    \n",
    "    # Plot heatmap with amplitude on the y-axis, time on the x-axis, and color as overlap values\n",
    "    c = ax[profile_index].imshow(\n",
    "        log_infid[profile_index], \n",
    "        aspect='auto',\n",
    "        cmap='inferno_r',  # Use 'hot' colormap for the heatmap\n",
    "        extent=[total_times[0], total_times[-1], amplitudes[0], amplitudes[-1]],  # Set axis limits\n",
    "        origin='lower',  # So the amplitude is on the y-axis from bottom to top\n",
    "        vmin=vmin, vmax=vmax  # Common color scale across all profiles\n",
    "    )\n",
    "    \n",
    "    # Set titles, labels, and colorbar for each subplot\n",
    "    ax[profile_index].set_title(f'{profile} Overlap Heatmap')\n",
    "    ax[profile_index].set_xlabel('Time')\n",
    "    ax[profile_index].set_ylabel('Amplitude')\n",
    "    fig.colorbar(c, ax=ax[profile_index], label=r'$log_{10}(1 - F)$')\n",
    "\n",
    "# Adjust layout and display the plot\n",
    "plt.tight_layout()\n",
    "plt.show()"
   ]
  },
  {
   "cell_type": "code",
   "execution_count": null,
   "id": "f7da03d7",
   "metadata": {},
   "outputs": [],
   "source": [
    "import matplotlib.pyplot as plt\n",
    "import numpy as np\n",
    "\n",
    "selected_amp_index = 2\n",
    "overlap_last_time = overlap[-1, ...] \n",
    "log_infid = jnp.log10(1 - overlap_last_time)\n",
    "\n",
    "vmin, vmax = log_infid.min(), log_infid.max()\n",
    "\n",
    "# Create a figure for plotting\n",
    "fig, ax = plt.subplots(npn_profiles, 1, figsize=(10, 6), sharex=True, sharey=True)\n",
    "\n",
    "# Loop through each profile type (Linear, Minjerk, STA, etc.)\n",
    "for profile_index, profile in profile_kind_to_index.items():\n",
    "    \n",
    "    ax[profile_index].plot(log_infid[profile_index, selected_amp_index])\n",
    "    \n",
    "    # Set titles, labels, and colorbar for each subplot\n",
    "    ax[profile_index].set_title(f'{profile} Overlap')\n",
    "    ax[profile_index].set_xlabel('Total Time')\n",
    "    ax[profile_index].set_ylabel('log I')\n",
    "\n",
    "# Adjust layout and display the plot\n",
    "plt.tight_layout()\n",
    "plt.show()"
   ]
  },
  {
   "cell_type": "code",
   "execution_count": null,
   "id": "91f3c7d2",
   "metadata": {},
   "outputs": [],
   "source": []
  },
  {
   "cell_type": "code",
   "execution_count": null,
   "id": "e4daf698",
   "metadata": {},
   "outputs": [],
   "source": []
  }
 ],
 "metadata": {
  "kernelspec": {
   "display_name": "myenv",
   "language": "python",
   "name": "python3"
  },
  "language_info": {
   "codemirror_mode": {
    "name": "ipython",
    "version": 3
   },
   "file_extension": ".py",
   "mimetype": "text/x-python",
   "name": "python",
   "nbconvert_exporter": "python",
   "pygments_lexer": "ipython3",
   "version": "3.12.4"
  }
 },
 "nbformat": 4,
 "nbformat_minor": 5
}
